{
 "cells": [
  {
   "cell_type": "code",
   "execution_count": 10,
   "metadata": {},
   "outputs": [],
   "source": [
    "library(tidyverse)\n",
    "library(tidymodels)\n",
    "library(dplyr)"
   ]
  },
  {
   "cell_type": "code",
   "execution_count": 6,
   "metadata": {},
   "outputs": [
    {
     "name": "stderr",
     "output_type": "stream",
     "text": [
      "Parsed with column specification:\n",
      "cols(\n",
      "  a = \u001b[31mcol_character()\u001b[39m,\n",
      "  b = \u001b[31mcol_character()\u001b[39m,\n",
      "  c = \u001b[31mcol_character()\u001b[39m,\n",
      "  d = \u001b[31mcol_character()\u001b[39m,\n",
      "  e = \u001b[31mcol_character()\u001b[39m,\n",
      "  f = \u001b[31mcol_character()\u001b[39m,\n",
      "  g = \u001b[31mcol_character()\u001b[39m\n",
      ")\n",
      "\n"
     ]
    },
    {
     "ename": "ERROR",
     "evalue": "Error in col_names(.): could not find function \"col_names\"\n",
     "output_type": "error",
     "traceback": [
      "Error in col_names(.): could not find function \"col_names\"\nTraceback:\n",
      "1. read_csv(\"cardata.csv\") %>% col_names()",
      "2. withVisible(eval(quote(`_fseq`(`_lhs`)), env, env))",
      "3. eval(quote(`_fseq`(`_lhs`)), env, env)",
      "4. eval(quote(`_fseq`(`_lhs`)), env, env)",
      "5. `_fseq`(`_lhs`)",
      "6. freduce(value, `_function_list`)",
      "7. withVisible(function_list[[k]](value))",
      "8. function_list[[k]](value)"
     ]
    }
   ],
   "source": [
    "car <- read_csv(\"cardata.csv\") %>%\n",
    " col_names()\n",
    "    mutate(buying = as.factor(buying)) %>%\n",
    "    mutate(maint = as.factor(maint)) %>%\n",
    "    mutate(doors = as.factor(doors)) %>%\n",
    "   mutate(persons = as.factor(persons)) %>%\n",
    "   mutate(lug_boot = as.factor(lug_boot)) %>%\n",
    "   mutate(safety = as.factor(safety)) %>%\n",
    "    mutate(eval = as.factor(eval))\n",
    "car\n",
    "\n",
    "\n",
    "\n",
    "\n",
    "\n"
   ]
  },
  {
   "cell_type": "code",
   "execution_count": null,
   "metadata": {},
   "outputs": [],
   "source": []
  }
 ],
 "metadata": {
  "kernelspec": {
   "display_name": "R",
   "language": "R",
   "name": "ir"
  },
  "language_info": {
   "codemirror_mode": "r",
   "file_extension": ".r",
   "mimetype": "text/x-r-source",
   "name": "R",
   "pygments_lexer": "r",
   "version": "4.0.0"
  }
 },
 "nbformat": 4,
 "nbformat_minor": 4
}
